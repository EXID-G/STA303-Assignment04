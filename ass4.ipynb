{
 "cells": [
  {
   "cell_type": "code",
   "execution_count": 1,
   "metadata": {},
   "outputs": [
    {
     "name": "stderr",
     "output_type": "stream",
     "text": [
      "/usr/local/lib/python3.10/dist-packages/tqdm/auto.py:21: TqdmWarning: IProgress not found. Please update jupyter and ipywidgets. See https://ipywidgets.readthedocs.io/en/stable/user_install.html\n",
      "  from .autonotebook import tqdm as notebook_tqdm\n"
     ]
    }
   ],
   "source": [
    "from torchcp.classification.scores import THR,APS,SAPS,RAPS\n",
    "from torchcp.classification.predictors import SplitPredictor,ClusterPredictor,ClassWisePredictor\n",
    "\n",
    "import torch\n",
    "from torch.utils.data import DataLoader\n",
    "\n",
    "from model_prepare import load_resnet18,load_densenet,training_model\n",
    "from data_prepare import load_data\n",
    "\n",
    "import warnings\n",
    "warnings.filterwarnings('ignore')\n",
    "\n",
    "from tqdm import tqdm"
   ]
  },
  {
   "cell_type": "code",
   "execution_count": 2,
   "metadata": {},
   "outputs": [],
   "source": [
    "device = torch.device(\"cuda:0\" if torch.cuda.is_available() else \"cpu\")"
   ]
  },
  {
   "cell_type": "markdown",
   "metadata": {},
   "source": [
    "## Prepare data"
   ]
  },
  {
   "cell_type": "code",
   "execution_count": 3,
   "metadata": {},
   "outputs": [
    {
     "name": "stdout",
     "output_type": "stream",
     "text": [
      "Files already downloaded and verified\n",
      "Files already downloaded and verified\n"
     ]
    }
   ],
   "source": [
    "## fashion mnist, n_class = 10\n",
    "cal_data_fashion_mnist, train_data_fashion_mnist, test_data_fashion_mnist = load_data(\"fashionmnist\",seed = 42)\n",
    "train_dataloader_fashion = DataLoader(train_data_fashion_mnist, batch_size=64, shuffle=True)\n",
    "cal_dataloader_fashion = DataLoader(cal_data_fashion_mnist, batch_size=64, shuffle=False)\n",
    "test_dataloader_fashion = DataLoader(test_data_fashion_mnist, batch_size=64, shuffle=False)\n",
    "\n",
    "\n",
    "## cifar100, n_class = 100\n",
    "cal_data_cifar100, train_data_cifar100, test_data_cifar100 = load_data(\"cifar100\",seed = 42)\n",
    "train_dataloader_cifar100 = DataLoader(train_data_cifar100, batch_size=64, shuffle=True)\n",
    "cal_dataloader_cifar100 = DataLoader(cal_data_cifar100, batch_size=64, shuffle=False)\n",
    "test_dataloader_cifar100 = DataLoader(test_data_cifar100, batch_size=64, shuffle=False)"
   ]
  },
  {
   "cell_type": "markdown",
   "metadata": {},
   "source": [
    "## model prepare"
   ]
  },
  {
   "cell_type": "code",
   "execution_count": 28,
   "metadata": {},
   "outputs": [],
   "source": [
    "# resnet18 = load_resnet18(10)\n",
    "# densenet = load_densenet(10)\n",
    "\n",
    "# # training_model(train_dataloader=train_dataloader_fashion,test_dataloader=test_dataloader_fashion,model=densenet,saving_name=\"densenet121_fashionmnist\",num_epochs=10)\n",
    "\n",
    "# resnet18 = load_resnet18(100)\n",
    "# densenet = load_densenet(100)\n",
    "\n",
    "# training_model(train_dataloader=train_dataloader_cifar100,test_dataloader=test_dataloader_cifar100,model=resnet18,saving_name=\"resnet18_cifar100\",num_epochs=30)\n",
    "# # training_model(train_dataloader=train_dataloader_cifar100,test_dataloader=test_dataloader_cifar100,model=densenet,saving_name=\"densenet121_cifar100\",num_epochs=30)"
   ]
  },
  {
   "cell_type": "code",
   "execution_count": 4,
   "metadata": {},
   "outputs": [],
   "source": [
    "densenet121_cifar100 = torch.load(\"models/densenet121_cifar100.pth\")\n",
    "densenet121_fashionmnist = torch.load(\"models/densenet121_fashionmnist.pth\")\n",
    "\n",
    "resnet18_cifar100 = torch.load(\"models/resnet18_cifar100.pth\")\n",
    "resnet18_fashionminist = torch.load(\"models/resnet18_fashionmnist.pth\")"
   ]
  },
  {
   "cell_type": "markdown",
   "metadata": {},
   "source": [
    "## Evaluation_cp"
   ]
  },
  {
   "cell_type": "code",
   "execution_count": 30,
   "metadata": {},
   "outputs": [],
   "source": [
    "# predictor = SplitPredictor(score_function = THR(), model = resnet18_fashionminist)\n",
    "\n",
    "# # Calibrating the predictor with significance level as alpha\n",
    "# predictor.calibrate(cal_dataloader_fashion, 0.1)\n",
    "# print(\"calibration finished\")"
   ]
  },
  {
   "cell_type": "code",
   "execution_count": 5,
   "metadata": {},
   "outputs": [],
   "source": [
    "def eval_cp(model_name, model, cal_dataloader, test_dataloader):\n",
    "    model.eval()\n",
    "\n",
    "    score_list = [THR(),APS(),SAPS(weight=0.2),RAPS(1,0)]\n",
    "    predictor_list = [SplitPredictor,ClusterPredictor,ClassWisePredictor]\n",
    "\n",
    "\n",
    "    alpha=0.1   \n",
    "    for score in tqdm(score_list):\n",
    "        for class_predictor in predictor_list:\n",
    "            predictor = class_predictor(score_function = score, model = model)\n",
    "            \n",
    "            # Calibrating the predictor with significance level as alpha\n",
    "            predictor.calibrate(cal_dataloader, alpha)\n",
    "            print(\"calibration finished\")\n",
    "            # Evaluating the coverage rate and average set size on a given dataset.\n",
    "            result_dict = predictor.evaluate(test_dataloader)\n",
    "            \n",
    "            print(f\"----------------{model_name},{score.__class__.__name__},{predictor.__class__.__name__},alpha = {alpha}------------------\")\n",
    "            print(f\"coverage_rate:{result_dict['Coverage_rate']}, Average_size:{result_dict['Average_size']}\")\n"
   ]
  },
  {
   "cell_type": "code",
   "execution_count": 32,
   "metadata": {},
   "outputs": [
    {
     "name": "stderr",
     "output_type": "stream",
     "text": [
      "  0%|          | 0/4 [00:00<?, ?it/s]"
     ]
    },
    {
     "name": "stdout",
     "output_type": "stream",
     "text": [
      "calibration finished\n",
      "----------------resnet18_fashionminist,THR,SplitPredictor,alpha = 0.1------------------\n",
      "coverage_rate:0.8925, Average_size:1.05825\n",
      "calibration finished\n",
      "----------------resnet18_fashionminist,THR,ClusterPredictor,alpha = 0.1------------------\n",
      "coverage_rate:0.8925, Average_size:1.0585\n",
      "calibration finished\n"
     ]
    },
    {
     "name": "stderr",
     "output_type": "stream",
     "text": [
      " 25%|██▌       | 1/4 [04:16<12:48, 256.05s/it]"
     ]
    },
    {
     "name": "stdout",
     "output_type": "stream",
     "text": [
      "----------------resnet18_fashionminist,THR,ClassWisePredictor,alpha = 0.1------------------\n",
      "coverage_rate:0.900625, Average_size:1.182\n",
      "calibration finished\n",
      "----------------resnet18_fashionminist,APS,SplitPredictor,alpha = 0.1------------------\n",
      "coverage_rate:0.897125, Average_size:1.2195\n",
      "calibration finished\n",
      "----------------resnet18_fashionminist,APS,ClusterPredictor,alpha = 0.1------------------\n",
      "coverage_rate:0.8935, Average_size:1.213375\n",
      "calibration finished\n"
     ]
    },
    {
     "name": "stderr",
     "output_type": "stream",
     "text": [
      " 50%|█████     | 2/4 [07:50<07:43, 231.78s/it]"
     ]
    },
    {
     "name": "stdout",
     "output_type": "stream",
     "text": [
      "----------------resnet18_fashionminist,APS,ClassWisePredictor,alpha = 0.1------------------\n",
      "coverage_rate:0.90175, Average_size:1.349\n",
      "calibration finished\n",
      "----------------resnet18_fashionminist,SAPS,SplitPredictor,alpha = 0.1------------------\n",
      "coverage_rate:0.892875, Average_size:1.187375\n",
      "calibration finished\n",
      "----------------resnet18_fashionminist,SAPS,ClusterPredictor,alpha = 0.1------------------\n",
      "coverage_rate:0.891625, Average_size:1.184625\n",
      "calibration finished\n"
     ]
    },
    {
     "name": "stderr",
     "output_type": "stream",
     "text": [
      " 75%|███████▌  | 3/4 [11:21<03:42, 222.06s/it]"
     ]
    },
    {
     "name": "stdout",
     "output_type": "stream",
     "text": [
      "----------------resnet18_fashionminist,SAPS,ClassWisePredictor,alpha = 0.1------------------\n",
      "coverage_rate:0.892125, Average_size:1.38425\n",
      "calibration finished\n",
      "----------------resnet18_fashionminist,RAPS,SplitPredictor,alpha = 0.1------------------\n",
      "coverage_rate:0.8955, Average_size:1.073\n",
      "calibration finished\n",
      "----------------resnet18_fashionminist,RAPS,ClusterPredictor,alpha = 0.1------------------\n",
      "coverage_rate:0.8955, Average_size:1.0745\n",
      "calibration finished\n"
     ]
    },
    {
     "name": "stderr",
     "output_type": "stream",
     "text": [
      "100%|██████████| 4/4 [14:50<00:00, 222.52s/it]"
     ]
    },
    {
     "name": "stdout",
     "output_type": "stream",
     "text": [
      "----------------resnet18_fashionminist,RAPS,ClassWisePredictor,alpha = 0.1------------------\n",
      "coverage_rate:0.893375, Average_size:1.329625\n"
     ]
    },
    {
     "name": "stderr",
     "output_type": "stream",
     "text": [
      "\n"
     ]
    }
   ],
   "source": [
    "eval_cp(\"resnet18_fashionminist\",resnet18_fashionminist,cal_dataloader_fashion,test_dataloader_fashion)"
   ]
  },
  {
   "cell_type": "code",
   "execution_count": 33,
   "metadata": {},
   "outputs": [
    {
     "name": "stderr",
     "output_type": "stream",
     "text": [
      "  0%|          | 0/4 [00:00<?, ?it/s]"
     ]
    },
    {
     "name": "stdout",
     "output_type": "stream",
     "text": [
      "calibration finished\n",
      "----------------densenet121_fashionminist,THR,SplitPredictor,alpha = 0.1------------------\n",
      "coverage_rate:0.9005, Average_size:1.181375\n",
      "calibration finished\n",
      "----------------densenet121_fashionminist,THR,ClusterPredictor,alpha = 0.1------------------\n",
      "coverage_rate:0.900125, Average_size:1.179125\n",
      "calibration finished\n"
     ]
    },
    {
     "name": "stderr",
     "output_type": "stream",
     "text": [
      " 25%|██▌       | 1/4 [51:56<2:35:49, 3116.45s/it]"
     ]
    },
    {
     "name": "stdout",
     "output_type": "stream",
     "text": [
      "----------------densenet121_fashionminist,THR,ClassWisePredictor,alpha = 0.1------------------\n",
      "coverage_rate:0.90325, Average_size:1.205125\n",
      "calibration finished\n",
      "----------------densenet121_fashionminist,APS,SplitPredictor,alpha = 0.1------------------\n",
      "coverage_rate:0.900375, Average_size:1.357875\n",
      "calibration finished\n",
      "----------------densenet121_fashionminist,APS,ClusterPredictor,alpha = 0.1------------------\n",
      "coverage_rate:0.902, Average_size:1.352125\n",
      "calibration finished\n"
     ]
    },
    {
     "name": "stderr",
     "output_type": "stream",
     "text": [
      " 50%|█████     | 2/4 [1:46:56<1:47:28, 3224.38s/it]"
     ]
    },
    {
     "name": "stdout",
     "output_type": "stream",
     "text": [
      "----------------densenet121_fashionminist,APS,ClassWisePredictor,alpha = 0.1------------------\n",
      "coverage_rate:0.903125, Average_size:1.40425\n",
      "calibration finished\n",
      "----------------densenet121_fashionminist,SAPS,SplitPredictor,alpha = 0.1------------------\n",
      "coverage_rate:0.90075, Average_size:1.338\n",
      "calibration finished\n",
      "----------------densenet121_fashionminist,SAPS,ClusterPredictor,alpha = 0.1------------------\n",
      "coverage_rate:0.9005, Average_size:1.33825\n",
      "calibration finished\n"
     ]
    },
    {
     "name": "stderr",
     "output_type": "stream",
     "text": [
      " 75%|███████▌  | 3/4 [2:43:02<54:48, 3288.88s/it]  "
     ]
    },
    {
     "name": "stdout",
     "output_type": "stream",
     "text": [
      "----------------densenet121_fashionminist,SAPS,ClassWisePredictor,alpha = 0.1------------------\n",
      "coverage_rate:0.904375, Average_size:1.501125\n",
      "calibration finished\n",
      "----------------densenet121_fashionminist,RAPS,SplitPredictor,alpha = 0.1------------------\n",
      "coverage_rate:0.900375, Average_size:1.205625\n",
      "calibration finished\n",
      "----------------densenet121_fashionminist,RAPS,ClusterPredictor,alpha = 0.1------------------\n",
      "coverage_rate:0.8975, Average_size:1.20325\n",
      "calibration finished\n"
     ]
    },
    {
     "name": "stderr",
     "output_type": "stream",
     "text": [
      "100%|██████████| 4/4 [3:39:13<00:00, 3288.32s/it]"
     ]
    },
    {
     "name": "stdout",
     "output_type": "stream",
     "text": [
      "----------------densenet121_fashionminist,RAPS,ClassWisePredictor,alpha = 0.1------------------\n",
      "coverage_rate:0.89875, Average_size:1.458\n"
     ]
    },
    {
     "name": "stderr",
     "output_type": "stream",
     "text": [
      "\n"
     ]
    }
   ],
   "source": [
    "eval_cp(\"densenet121_fashionminist\",densenet121_fashionmnist,cal_dataloader_fashion,test_dataloader_fashion)"
   ]
  },
  {
   "cell_type": "code",
   "execution_count": 6,
   "metadata": {},
   "outputs": [
    {
     "name": "stderr",
     "output_type": "stream",
     "text": [
      "  0%|          | 0/4 [00:00<?, ?it/s]"
     ]
    },
    {
     "name": "stdout",
     "output_type": "stream",
     "text": [
      "calibration finished\n",
      "----------------resnet18_cifar100,THR,SplitPredictor,alpha = 0.1------------------\n",
      "coverage_rate:0.89925, Average_size:16.645\n",
      "calibration finished\n",
      "----------------resnet18_cifar100,THR,ClusterPredictor,alpha = 0.1------------------\n",
      "coverage_rate:0.89925, Average_size:16.64625\n",
      "calibration finished\n"
     ]
    },
    {
     "name": "stderr",
     "output_type": "stream",
     "text": [
      " 25%|██▌       | 1/4 [10:32<31:38, 632.73s/it]"
     ]
    },
    {
     "name": "stdout",
     "output_type": "stream",
     "text": [
      "----------------resnet18_cifar100,THR,ClassWisePredictor,alpha = 0.1------------------\n",
      "coverage_rate:0.901, Average_size:16.52225\n",
      "calibration finished\n",
      "----------------resnet18_cifar100,APS,SplitPredictor,alpha = 0.1------------------\n",
      "coverage_rate:0.900875, Average_size:21.9505\n",
      "calibration finished\n",
      "----------------resnet18_cifar100,APS,ClusterPredictor,alpha = 0.1------------------\n",
      "coverage_rate:0.898625, Average_size:21.552\n",
      "calibration finished\n"
     ]
    },
    {
     "name": "stderr",
     "output_type": "stream",
     "text": [
      " 50%|█████     | 2/4 [19:34<19:18, 579.23s/it]"
     ]
    },
    {
     "name": "stdout",
     "output_type": "stream",
     "text": [
      "----------------resnet18_cifar100,APS,ClassWisePredictor,alpha = 0.1------------------\n",
      "coverage_rate:0.902625, Average_size:21.554125\n",
      "calibration finished\n",
      "----------------resnet18_cifar100,SAPS,SplitPredictor,alpha = 0.1------------------\n",
      "coverage_rate:0.902, Average_size:18.389875\n",
      "calibration finished\n",
      "----------------resnet18_cifar100,SAPS,ClusterPredictor,alpha = 0.1------------------\n",
      "coverage_rate:0.9045, Average_size:18.990625\n",
      "calibration finished\n"
     ]
    },
    {
     "name": "stderr",
     "output_type": "stream",
     "text": [
      " 75%|███████▌  | 3/4 [28:40<09:24, 564.11s/it]"
     ]
    },
    {
     "name": "stdout",
     "output_type": "stream",
     "text": [
      "----------------resnet18_cifar100,SAPS,ClassWisePredictor,alpha = 0.1------------------\n",
      "coverage_rate:0.90075, Average_size:18.893375\n",
      "calibration finished\n",
      "----------------resnet18_cifar100,RAPS,SplitPredictor,alpha = 0.1------------------\n",
      "coverage_rate:0.90125, Average_size:19.169625\n",
      "calibration finished\n",
      "----------------resnet18_cifar100,RAPS,ClusterPredictor,alpha = 0.1------------------\n",
      "coverage_rate:0.903125, Average_size:19.38575\n",
      "calibration finished\n"
     ]
    },
    {
     "name": "stderr",
     "output_type": "stream",
     "text": [
      "100%|██████████| 4/4 [37:43<00:00, 566.00s/it]"
     ]
    },
    {
     "name": "stdout",
     "output_type": "stream",
     "text": [
      "----------------resnet18_cifar100,RAPS,ClassWisePredictor,alpha = 0.1------------------\n",
      "coverage_rate:0.901375, Average_size:19.368\n"
     ]
    },
    {
     "name": "stderr",
     "output_type": "stream",
     "text": [
      "\n"
     ]
    }
   ],
   "source": [
    "eval_cp(\"resnet18_cifar100\",resnet18_cifar100,cal_dataloader_cifar100,test_dataloader_cifar100)"
   ]
  },
  {
   "cell_type": "code",
   "execution_count": 8,
   "metadata": {},
   "outputs": [],
   "source": [
    "eval_cp(\"densenet121_cifar100\",densenet121_cifar100,cal_dataloader_cifar100,test_dataloader_cifar100)"
   ]
  },
  {
   "cell_type": "code",
   "execution_count": null,
   "metadata": {},
   "outputs": [],
   "source": []
  }
 ],
 "metadata": {
  "kernelspec": {
   "display_name": "Python 3",
   "language": "python",
   "name": "python3"
  },
  "language_info": {
   "codemirror_mode": {
    "name": "ipython",
    "version": 3
   },
   "file_extension": ".py",
   "mimetype": "text/x-python",
   "name": "python",
   "nbconvert_exporter": "python",
   "pygments_lexer": "ipython3",
   "version": "3.10.12"
  }
 },
 "nbformat": 4,
 "nbformat_minor": 2
}
