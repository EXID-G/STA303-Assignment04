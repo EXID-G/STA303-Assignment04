{
 "cells": [
  {
   "cell_type": "code",
   "execution_count": 25,
   "metadata": {},
   "outputs": [],
   "source": [
    "from torchcp.classification.scores import THR,APS,SAPS,RAPS\n",
    "from torchcp.classification.predictors import SplitPredictor,ClusterPredictor,ClassWisePredictor\n",
    "\n",
    "import torch\n",
    "from torch.utils.data import DataLoader\n",
    "\n",
    "from model_prepare import load_resnet18,load_densenet,training_model\n",
    "from data_prepare import load_data\n",
    "\n",
    "import warnings\n",
    "warnings.filterwarnings('ignore')\n",
    "\n",
    "from tqdm import tqdm"
   ]
  },
  {
   "cell_type": "code",
   "execution_count": 26,
   "metadata": {},
   "outputs": [],
   "source": [
    "device = torch.device(\"cuda:0\" if torch.cuda.is_available() else \"cpu\")"
   ]
  },
  {
   "cell_type": "markdown",
   "metadata": {},
   "source": [
    "## Prepare data"
   ]
  },
  {
   "cell_type": "code",
   "execution_count": 27,
   "metadata": {},
   "outputs": [
    {
     "name": "stdout",
     "output_type": "stream",
     "text": [
      "Files already downloaded and verified\n",
      "Files already downloaded and verified\n"
     ]
    }
   ],
   "source": [
    "## fashion mnist, n_class = 10\n",
    "cal_data_fashion_mnist, train_data_fashion_mnist, test_data_fashion_mnist = load_data(\"fashionmnist\",seed = 42)\n",
    "train_dataloader_fashion = DataLoader(train_data_fashion_mnist, batch_size=64, shuffle=True)\n",
    "cal_dataloader_fashion = DataLoader(cal_data_fashion_mnist, batch_size=64, shuffle=False)\n",
    "test_dataloader_fashion = DataLoader(test_data_fashion_mnist, batch_size=64, shuffle=False)\n",
    "\n",
    "\n",
    "## cifar100, n_class = 100\n",
    "cal_data_cifar100, train_data_cifar100, test_data_cifar100 = load_data(\"cifar100\",seed = 42)\n",
    "train_dataloader_cifar100 = DataLoader(train_data_cifar100, batch_size=64, shuffle=True)\n",
    "cal_dataloader_cifar100 = DataLoader(cal_data_cifar100, batch_size=64, shuffle=False)\n",
    "test_dataloader_cifar100 = DataLoader(test_data_cifar100, batch_size=64, shuffle=False)"
   ]
  },
  {
   "cell_type": "markdown",
   "metadata": {},
   "source": [
    "## model prepare"
   ]
  },
  {
   "cell_type": "code",
   "execution_count": 28,
   "metadata": {},
   "outputs": [],
   "source": [
    "# resnet18 = load_resnet18(10)\n",
    "# densenet = load_densenet(10)\n",
    "\n",
    "# # training_model(train_dataloader=train_dataloader_fashion,test_dataloader=test_dataloader_fashion,model=densenet,saving_name=\"densenet121_fashionmnist\",num_epochs=10)\n",
    "\n",
    "# resnet18 = load_resnet18(100)\n",
    "# densenet = load_densenet(100)\n",
    "\n",
    "# training_model(train_dataloader=train_dataloader_cifar100,test_dataloader=test_dataloader_cifar100,model=resnet18,saving_name=\"resnet18_cifar100\",num_epochs=30)\n",
    "# # training_model(train_dataloader=train_dataloader_cifar100,test_dataloader=test_dataloader_cifar100,model=densenet,saving_name=\"densenet121_cifar100\",num_epochs=30)"
   ]
  },
  {
   "cell_type": "code",
   "execution_count": 29,
   "metadata": {},
   "outputs": [],
   "source": [
    "densenet121_cifar100 = torch.load(\"models/densenet121_cifar100.pth\")\n",
    "densenet121_fashionmnist = torch.load(\"models/densenet121_fashionmnist.pth\")\n",
    "\n",
    "resnet18_cifar100 = torch.load(\"models/resnet18_cifar100.pth\")\n",
    "resnet18_fashionminist = torch.load(\"models/resnet18_fashionmnist.pth\")"
   ]
  },
  {
   "cell_type": "markdown",
   "metadata": {},
   "source": [
    "## Evaluation_cp"
   ]
  },
  {
   "cell_type": "code",
   "execution_count": 30,
   "metadata": {},
   "outputs": [],
   "source": [
    "# predictor = SplitPredictor(score_function = THR(), model = resnet18_fashionminist)\n",
    "\n",
    "# # Calibrating the predictor with significance level as alpha\n",
    "# predictor.calibrate(cal_dataloader_fashion, 0.1)\n",
    "# print(\"calibration finished\")"
   ]
  },
  {
   "cell_type": "code",
   "execution_count": 31,
   "metadata": {},
   "outputs": [],
   "source": [
    "def eval_cp(model_name, model, cal_dataloader, test_dataloader):\n",
    "    model.eval()\n",
    "\n",
    "    score_list = [THR(),APS(),SAPS(weight=0.2),RAPS(1,0)]\n",
    "    predictor_list = [SplitPredictor,ClusterPredictor,ClassWisePredictor]\n",
    "\n",
    "\n",
    "    alpha=0.1   \n",
    "    for score in tqdm(score_list):\n",
    "        for class_predictor in predictor_list:\n",
    "            predictor = class_predictor(score_function = score, model = model)\n",
    "            \n",
    "            # Calibrating the predictor with significance level as alpha\n",
    "            predictor.calibrate(cal_dataloader, alpha)\n",
    "            print(\"calibration finished\")\n",
    "            # Evaluating the coverage rate and average set size on a given dataset.\n",
    "            result_dict = predictor.evaluate(test_dataloader)\n",
    "            \n",
    "            print(f\"----------------{model_name},{score.__class__.__name__},{predictor.__class__.__name__},alpha = {alpha}------------------\")\n",
    "            print(f\"coverage_rate:{result_dict['Coverage_rate']}, Average_size:{result_dict['Average_size']}\")\n"
   ]
  },
  {
   "cell_type": "code",
   "execution_count": 32,
   "metadata": {},
   "outputs": [
    {
     "name": "stderr",
     "output_type": "stream",
     "text": [
      "  0%|          | 0/4 [00:00<?, ?it/s]"
     ]
    },
    {
     "name": "stdout",
     "output_type": "stream",
     "text": [
      "calibration finished\n",
      "----------------resnet18_fashionminist,THR,SplitPredictor,alpha = 0.1------------------\n",
      "coverage_rate:0.8925, Average_size:1.05825\n",
      "calibration finished\n",
      "----------------resnet18_fashionminist,THR,ClusterPredictor,alpha = 0.1------------------\n",
      "coverage_rate:0.8925, Average_size:1.0585\n",
      "calibration finished\n"
     ]
    },
    {
     "name": "stderr",
     "output_type": "stream",
     "text": [
      " 25%|██▌       | 1/4 [04:16<12:48, 256.05s/it]"
     ]
    },
    {
     "name": "stdout",
     "output_type": "stream",
     "text": [
      "----------------resnet18_fashionminist,THR,ClassWisePredictor,alpha = 0.1------------------\n",
      "coverage_rate:0.900625, Average_size:1.182\n",
      "calibration finished\n",
      "----------------resnet18_fashionminist,APS,SplitPredictor,alpha = 0.1------------------\n",
      "coverage_rate:0.897125, Average_size:1.2195\n",
      "calibration finished\n",
      "----------------resnet18_fashionminist,APS,ClusterPredictor,alpha = 0.1------------------\n",
      "coverage_rate:0.8935, Average_size:1.213375\n",
      "calibration finished\n"
     ]
    },
    {
     "name": "stderr",
     "output_type": "stream",
     "text": [
      " 50%|█████     | 2/4 [07:50<07:43, 231.78s/it]"
     ]
    },
    {
     "name": "stdout",
     "output_type": "stream",
     "text": [
      "----------------resnet18_fashionminist,APS,ClassWisePredictor,alpha = 0.1------------------\n",
      "coverage_rate:0.90175, Average_size:1.349\n",
      "calibration finished\n",
      "----------------resnet18_fashionminist,SAPS,SplitPredictor,alpha = 0.1------------------\n",
      "coverage_rate:0.892875, Average_size:1.187375\n",
      "calibration finished\n",
      "----------------resnet18_fashionminist,SAPS,ClusterPredictor,alpha = 0.1------------------\n",
      "coverage_rate:0.891625, Average_size:1.184625\n",
      "calibration finished\n"
     ]
    },
    {
     "name": "stderr",
     "output_type": "stream",
     "text": [
      " 75%|███████▌  | 3/4 [11:21<03:42, 222.06s/it]"
     ]
    },
    {
     "name": "stdout",
     "output_type": "stream",
     "text": [
      "----------------resnet18_fashionminist,SAPS,ClassWisePredictor,alpha = 0.1------------------\n",
      "coverage_rate:0.892125, Average_size:1.38425\n",
      "calibration finished\n",
      "----------------resnet18_fashionminist,RAPS,SplitPredictor,alpha = 0.1------------------\n",
      "coverage_rate:0.8955, Average_size:1.073\n",
      "calibration finished\n",
      "----------------resnet18_fashionminist,RAPS,ClusterPredictor,alpha = 0.1------------------\n",
      "coverage_rate:0.8955, Average_size:1.0745\n",
      "calibration finished\n"
     ]
    },
    {
     "name": "stderr",
     "output_type": "stream",
     "text": [
      "100%|██████████| 4/4 [14:50<00:00, 222.52s/it]"
     ]
    },
    {
     "name": "stdout",
     "output_type": "stream",
     "text": [
      "----------------resnet18_fashionminist,RAPS,ClassWisePredictor,alpha = 0.1------------------\n",
      "coverage_rate:0.893375, Average_size:1.329625\n"
     ]
    },
    {
     "name": "stderr",
     "output_type": "stream",
     "text": [
      "\n"
     ]
    }
   ],
   "source": [
    "eval_cp(\"resnet18_fashionminist\",resnet18_fashionminist,cal_dataloader_fashion,test_dataloader_fashion)"
   ]
  },
  {
   "cell_type": "code",
   "execution_count": 33,
   "metadata": {},
   "outputs": [
    {
     "name": "stderr",
     "output_type": "stream",
     "text": [
      "  0%|          | 0/4 [00:00<?, ?it/s]"
     ]
    },
    {
     "name": "stdout",
     "output_type": "stream",
     "text": [
      "calibration finished\n",
      "----------------densenet121_fashionminist,THR,SplitPredictor,alpha = 0.1------------------\n",
      "coverage_rate:0.9005, Average_size:1.181375\n",
      "calibration finished\n",
      "----------------densenet121_fashionminist,THR,ClusterPredictor,alpha = 0.1------------------\n",
      "coverage_rate:0.900125, Average_size:1.179125\n",
      "calibration finished\n"
     ]
    },
    {
     "name": "stderr",
     "output_type": "stream",
     "text": [
      " 25%|██▌       | 1/4 [51:56<2:35:49, 3116.45s/it]"
     ]
    },
    {
     "name": "stdout",
     "output_type": "stream",
     "text": [
      "----------------densenet121_fashionminist,THR,ClassWisePredictor,alpha = 0.1------------------\n",
      "coverage_rate:0.90325, Average_size:1.205125\n",
      "calibration finished\n",
      "----------------densenet121_fashionminist,APS,SplitPredictor,alpha = 0.1------------------\n",
      "coverage_rate:0.900375, Average_size:1.357875\n",
      "calibration finished\n",
      "----------------densenet121_fashionminist,APS,ClusterPredictor,alpha = 0.1------------------\n",
      "coverage_rate:0.902, Average_size:1.352125\n",
      "calibration finished\n"
     ]
    },
    {
     "name": "stderr",
     "output_type": "stream",
     "text": [
      " 50%|█████     | 2/4 [1:46:56<1:47:28, 3224.38s/it]"
     ]
    },
    {
     "name": "stdout",
     "output_type": "stream",
     "text": [
      "----------------densenet121_fashionminist,APS,ClassWisePredictor,alpha = 0.1------------------\n",
      "coverage_rate:0.903125, Average_size:1.40425\n",
      "calibration finished\n",
      "----------------densenet121_fashionminist,SAPS,SplitPredictor,alpha = 0.1------------------\n",
      "coverage_rate:0.90075, Average_size:1.338\n",
      "calibration finished\n",
      "----------------densenet121_fashionminist,SAPS,ClusterPredictor,alpha = 0.1------------------\n",
      "coverage_rate:0.9005, Average_size:1.33825\n",
      "calibration finished\n"
     ]
    },
    {
     "name": "stderr",
     "output_type": "stream",
     "text": [
      " 75%|███████▌  | 3/4 [2:43:02<54:48, 3288.88s/it]  "
     ]
    },
    {
     "name": "stdout",
     "output_type": "stream",
     "text": [
      "----------------densenet121_fashionminist,SAPS,ClassWisePredictor,alpha = 0.1------------------\n",
      "coverage_rate:0.904375, Average_size:1.501125\n",
      "calibration finished\n",
      "----------------densenet121_fashionminist,RAPS,SplitPredictor,alpha = 0.1------------------\n",
      "coverage_rate:0.900375, Average_size:1.205625\n",
      "calibration finished\n",
      "----------------densenet121_fashionminist,RAPS,ClusterPredictor,alpha = 0.1------------------\n",
      "coverage_rate:0.8975, Average_size:1.20325\n",
      "calibration finished\n"
     ]
    },
    {
     "name": "stderr",
     "output_type": "stream",
     "text": [
      "100%|██████████| 4/4 [3:39:13<00:00, 3288.32s/it]"
     ]
    },
    {
     "name": "stdout",
     "output_type": "stream",
     "text": [
      "----------------densenet121_fashionminist,RAPS,ClassWisePredictor,alpha = 0.1------------------\n",
      "coverage_rate:0.89875, Average_size:1.458\n"
     ]
    },
    {
     "name": "stderr",
     "output_type": "stream",
     "text": [
      "\n"
     ]
    }
   ],
   "source": [
    "eval_cp(\"densenet121_fashionminist\",densenet121_fashionmnist,cal_dataloader_fashion,test_dataloader_fashion)"
   ]
  },
  {
   "cell_type": "code",
   "execution_count": 34,
   "metadata": {},
   "outputs": [
    {
     "name": "stderr",
     "output_type": "stream",
     "text": [
      "  0%|          | 0/4 [00:00<?, ?it/s]"
     ]
    },
    {
     "name": "stdout",
     "output_type": "stream",
     "text": [
      "calibration finished\n",
      "----------------resnet18_cifar100,THR,SplitPredictor,alpha = 0.1------------------\n",
      "coverage_rate:0.89925, Average_size:16.645\n"
     ]
    },
    {
     "name": "stderr",
     "output_type": "stream",
     "text": [
      "  0%|          | 0/4 [03:58<?, ?it/s]\n"
     ]
    },
    {
     "ename": "KeyboardInterrupt",
     "evalue": "",
     "output_type": "error",
     "traceback": [
      "\u001b[0;31m---------------------------------------------------------------------------\u001b[0m",
      "\u001b[0;31mKeyboardInterrupt\u001b[0m                         Traceback (most recent call last)",
      "Cell \u001b[0;32mIn[34], line 1\u001b[0m\n\u001b[0;32m----> 1\u001b[0m \u001b[43meval_cp\u001b[49m\u001b[43m(\u001b[49m\u001b[38;5;124;43m\"\u001b[39;49m\u001b[38;5;124;43mresnet18_cifar100\u001b[39;49m\u001b[38;5;124;43m\"\u001b[39;49m\u001b[43m,\u001b[49m\u001b[43mresnet18_cifar100\u001b[49m\u001b[43m,\u001b[49m\u001b[43mcal_dataloader_cifar100\u001b[49m\u001b[43m,\u001b[49m\u001b[43mtest_dataloader_cifar100\u001b[49m\u001b[43m)\u001b[49m\n",
      "Cell \u001b[0;32mIn[31], line 13\u001b[0m, in \u001b[0;36meval_cp\u001b[0;34m(model_name, model, cal_dataloader, test_dataloader)\u001b[0m\n\u001b[1;32m     11\u001b[0m predictor \u001b[38;5;241m=\u001b[39m class_predictor(score_function \u001b[38;5;241m=\u001b[39m score, model \u001b[38;5;241m=\u001b[39m model)\n\u001b[1;32m     12\u001b[0m \u001b[38;5;66;03m# Calibrating the predictor with significance level as alpha\u001b[39;00m\n\u001b[0;32m---> 13\u001b[0m \u001b[43mpredictor\u001b[49m\u001b[38;5;241;43m.\u001b[39;49m\u001b[43mcalibrate\u001b[49m\u001b[43m(\u001b[49m\u001b[43mcal_dataloader\u001b[49m\u001b[43m,\u001b[49m\u001b[43m \u001b[49m\u001b[43malpha\u001b[49m\u001b[43m)\u001b[49m\n\u001b[1;32m     14\u001b[0m \u001b[38;5;28mprint\u001b[39m(\u001b[38;5;124m\"\u001b[39m\u001b[38;5;124mcalibration finished\u001b[39m\u001b[38;5;124m\"\u001b[39m)\n\u001b[1;32m     15\u001b[0m \u001b[38;5;66;03m# Evaluating the coverage rate and average set size on a given dataset.\u001b[39;00m\n",
      "File \u001b[0;32m/usr/local/lib/python3.10/dist-packages/torchcp/classification/predictors/split.py:36\u001b[0m, in \u001b[0;36mSplitPredictor.calibrate\u001b[0;34m(self, cal_dataloader, alpha)\u001b[0m\n\u001b[1;32m     34\u001b[0m \u001b[38;5;28;01mfor\u001b[39;00m examples \u001b[38;5;129;01min\u001b[39;00m cal_dataloader:\n\u001b[1;32m     35\u001b[0m     tmp_x, tmp_labels \u001b[38;5;241m=\u001b[39m examples[\u001b[38;5;241m0\u001b[39m]\u001b[38;5;241m.\u001b[39mto(\u001b[38;5;28mself\u001b[39m\u001b[38;5;241m.\u001b[39m_device), examples[\u001b[38;5;241m1\u001b[39m]\u001b[38;5;241m.\u001b[39mto(\u001b[38;5;28mself\u001b[39m\u001b[38;5;241m.\u001b[39m_device)\n\u001b[0;32m---> 36\u001b[0m     tmp_logits \u001b[38;5;241m=\u001b[39m \u001b[38;5;28mself\u001b[39m\u001b[38;5;241m.\u001b[39m_logits_transformation(\u001b[38;5;28;43mself\u001b[39;49m\u001b[38;5;241;43m.\u001b[39;49m\u001b[43m_model\u001b[49m\u001b[43m(\u001b[49m\u001b[43mtmp_x\u001b[49m\u001b[43m)\u001b[49m)\u001b[38;5;241m.\u001b[39mdetach()\n\u001b[1;32m     37\u001b[0m     logits_list\u001b[38;5;241m.\u001b[39mappend(tmp_logits)\n\u001b[1;32m     38\u001b[0m     labels_list\u001b[38;5;241m.\u001b[39mappend(tmp_labels)\n",
      "File \u001b[0;32m/usr/local/lib/python3.10/dist-packages/torch/nn/modules/module.py:1518\u001b[0m, in \u001b[0;36mModule._wrapped_call_impl\u001b[0;34m(self, *args, **kwargs)\u001b[0m\n\u001b[1;32m   1516\u001b[0m     \u001b[38;5;28;01mreturn\u001b[39;00m \u001b[38;5;28mself\u001b[39m\u001b[38;5;241m.\u001b[39m_compiled_call_impl(\u001b[38;5;241m*\u001b[39margs, \u001b[38;5;241m*\u001b[39m\u001b[38;5;241m*\u001b[39mkwargs)  \u001b[38;5;66;03m# type: ignore[misc]\u001b[39;00m\n\u001b[1;32m   1517\u001b[0m \u001b[38;5;28;01melse\u001b[39;00m:\n\u001b[0;32m-> 1518\u001b[0m     \u001b[38;5;28;01mreturn\u001b[39;00m \u001b[38;5;28;43mself\u001b[39;49m\u001b[38;5;241;43m.\u001b[39;49m\u001b[43m_call_impl\u001b[49m\u001b[43m(\u001b[49m\u001b[38;5;241;43m*\u001b[39;49m\u001b[43margs\u001b[49m\u001b[43m,\u001b[49m\u001b[43m \u001b[49m\u001b[38;5;241;43m*\u001b[39;49m\u001b[38;5;241;43m*\u001b[39;49m\u001b[43mkwargs\u001b[49m\u001b[43m)\u001b[49m\n",
      "File \u001b[0;32m/usr/local/lib/python3.10/dist-packages/torch/nn/modules/module.py:1527\u001b[0m, in \u001b[0;36mModule._call_impl\u001b[0;34m(self, *args, **kwargs)\u001b[0m\n\u001b[1;32m   1522\u001b[0m \u001b[38;5;66;03m# If we don't have any hooks, we want to skip the rest of the logic in\u001b[39;00m\n\u001b[1;32m   1523\u001b[0m \u001b[38;5;66;03m# this function, and just call forward.\u001b[39;00m\n\u001b[1;32m   1524\u001b[0m \u001b[38;5;28;01mif\u001b[39;00m \u001b[38;5;129;01mnot\u001b[39;00m (\u001b[38;5;28mself\u001b[39m\u001b[38;5;241m.\u001b[39m_backward_hooks \u001b[38;5;129;01mor\u001b[39;00m \u001b[38;5;28mself\u001b[39m\u001b[38;5;241m.\u001b[39m_backward_pre_hooks \u001b[38;5;129;01mor\u001b[39;00m \u001b[38;5;28mself\u001b[39m\u001b[38;5;241m.\u001b[39m_forward_hooks \u001b[38;5;129;01mor\u001b[39;00m \u001b[38;5;28mself\u001b[39m\u001b[38;5;241m.\u001b[39m_forward_pre_hooks\n\u001b[1;32m   1525\u001b[0m         \u001b[38;5;129;01mor\u001b[39;00m _global_backward_pre_hooks \u001b[38;5;129;01mor\u001b[39;00m _global_backward_hooks\n\u001b[1;32m   1526\u001b[0m         \u001b[38;5;129;01mor\u001b[39;00m _global_forward_hooks \u001b[38;5;129;01mor\u001b[39;00m _global_forward_pre_hooks):\n\u001b[0;32m-> 1527\u001b[0m     \u001b[38;5;28;01mreturn\u001b[39;00m \u001b[43mforward_call\u001b[49m\u001b[43m(\u001b[49m\u001b[38;5;241;43m*\u001b[39;49m\u001b[43margs\u001b[49m\u001b[43m,\u001b[49m\u001b[43m \u001b[49m\u001b[38;5;241;43m*\u001b[39;49m\u001b[38;5;241;43m*\u001b[39;49m\u001b[43mkwargs\u001b[49m\u001b[43m)\u001b[49m\n\u001b[1;32m   1529\u001b[0m \u001b[38;5;28;01mtry\u001b[39;00m:\n\u001b[1;32m   1530\u001b[0m     result \u001b[38;5;241m=\u001b[39m \u001b[38;5;28;01mNone\u001b[39;00m\n",
      "File \u001b[0;32m/usr/local/lib/python3.10/dist-packages/torchvision/models/resnet.py:285\u001b[0m, in \u001b[0;36mResNet.forward\u001b[0;34m(self, x)\u001b[0m\n\u001b[1;32m    284\u001b[0m \u001b[38;5;28;01mdef\u001b[39;00m \u001b[38;5;21mforward\u001b[39m(\u001b[38;5;28mself\u001b[39m, x: Tensor) \u001b[38;5;241m-\u001b[39m\u001b[38;5;241m>\u001b[39m Tensor:\n\u001b[0;32m--> 285\u001b[0m     \u001b[38;5;28;01mreturn\u001b[39;00m \u001b[38;5;28;43mself\u001b[39;49m\u001b[38;5;241;43m.\u001b[39;49m\u001b[43m_forward_impl\u001b[49m\u001b[43m(\u001b[49m\u001b[43mx\u001b[49m\u001b[43m)\u001b[49m\n",
      "File \u001b[0;32m/usr/local/lib/python3.10/dist-packages/torchvision/models/resnet.py:270\u001b[0m, in \u001b[0;36mResNet._forward_impl\u001b[0;34m(self, x)\u001b[0m\n\u001b[1;32m    268\u001b[0m x \u001b[38;5;241m=\u001b[39m \u001b[38;5;28mself\u001b[39m\u001b[38;5;241m.\u001b[39mconv1(x)\n\u001b[1;32m    269\u001b[0m x \u001b[38;5;241m=\u001b[39m \u001b[38;5;28mself\u001b[39m\u001b[38;5;241m.\u001b[39mbn1(x)\n\u001b[0;32m--> 270\u001b[0m x \u001b[38;5;241m=\u001b[39m \u001b[38;5;28;43mself\u001b[39;49m\u001b[38;5;241;43m.\u001b[39;49m\u001b[43mrelu\u001b[49m(x)\n\u001b[1;32m    271\u001b[0m x \u001b[38;5;241m=\u001b[39m \u001b[38;5;28mself\u001b[39m\u001b[38;5;241m.\u001b[39mmaxpool(x)\n\u001b[1;32m    273\u001b[0m x \u001b[38;5;241m=\u001b[39m \u001b[38;5;28mself\u001b[39m\u001b[38;5;241m.\u001b[39mlayer1(x)\n",
      "File \u001b[0;32m/usr/local/lib/python3.10/dist-packages/torch/nn/modules/module.py:1682\u001b[0m, in \u001b[0;36mModule.__getattr__\u001b[0;34m(self, name)\u001b[0m\n\u001b[1;32m   1673\u001b[0m         \u001b[38;5;28mself\u001b[39m\u001b[38;5;241m.\u001b[39m_backward_pre_hooks \u001b[38;5;241m=\u001b[39m OrderedDict()\n\u001b[1;32m   1675\u001b[0m \u001b[38;5;66;03m# On the return type:\u001b[39;00m\n\u001b[1;32m   1676\u001b[0m \u001b[38;5;66;03m# We choose to return `Any` in the `__getattr__` type signature instead of a more strict `Union[Tensor, Module]`.\u001b[39;00m\n\u001b[1;32m   1677\u001b[0m \u001b[38;5;66;03m# This is done for better interop with various type checkers for the end users.\u001b[39;00m\n\u001b[0;32m   (...)\u001b[0m\n\u001b[1;32m   1680\u001b[0m \u001b[38;5;66;03m# See full discussion on the problems with returning `Union` here\u001b[39;00m\n\u001b[1;32m   1681\u001b[0m \u001b[38;5;66;03m# https://github.com/microsoft/pyright/issues/4213\u001b[39;00m\n\u001b[0;32m-> 1682\u001b[0m \u001b[38;5;28;01mdef\u001b[39;00m \u001b[38;5;21m__getattr__\u001b[39m(\u001b[38;5;28mself\u001b[39m, name: \u001b[38;5;28mstr\u001b[39m) \u001b[38;5;241m-\u001b[39m\u001b[38;5;241m>\u001b[39m Any:\n\u001b[1;32m   1683\u001b[0m     \u001b[38;5;28;01mif\u001b[39;00m \u001b[38;5;124m'\u001b[39m\u001b[38;5;124m_parameters\u001b[39m\u001b[38;5;124m'\u001b[39m \u001b[38;5;129;01min\u001b[39;00m \u001b[38;5;28mself\u001b[39m\u001b[38;5;241m.\u001b[39m\u001b[38;5;18m__dict__\u001b[39m:\n\u001b[1;32m   1684\u001b[0m         _parameters \u001b[38;5;241m=\u001b[39m \u001b[38;5;28mself\u001b[39m\u001b[38;5;241m.\u001b[39m\u001b[38;5;18m__dict__\u001b[39m[\u001b[38;5;124m'\u001b[39m\u001b[38;5;124m_parameters\u001b[39m\u001b[38;5;124m'\u001b[39m]\n",
      "\u001b[0;31mKeyboardInterrupt\u001b[0m: "
     ]
    }
   ],
   "source": [
    "eval_cp(\"resnet18_cifar100\",resnet18_cifar100,cal_dataloader_cifar100,test_dataloader_cifar100)"
   ]
  },
  {
   "cell_type": "code",
   "execution_count": null,
   "metadata": {},
   "outputs": [],
   "source": [
    "eval_cp(\"densenet121_cifar100\",densenet121_cifar100,cal_dataloader_cifar100,test_dataloader_cifar100)"
   ]
  }
 ],
 "metadata": {
  "kernelspec": {
   "display_name": "Python 3",
   "language": "python",
   "name": "python3"
  },
  "language_info": {
   "codemirror_mode": {
    "name": "ipython",
    "version": 3
   },
   "file_extension": ".py",
   "mimetype": "text/x-python",
   "name": "python",
   "nbconvert_exporter": "python",
   "pygments_lexer": "ipython3",
   "version": "3.10.12"
  }
 },
 "nbformat": 4,
 "nbformat_minor": 2
}
